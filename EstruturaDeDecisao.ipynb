{
  "nbformat": 4,
  "nbformat_minor": 0,
  "metadata": {
    "colab": {
      "name": "EstruturaDeDecisao",
      "provenance": [],
      "authorship_tag": "ABX9TyPG6+E+EyaiNZ3DTadkGy3Z",
      "include_colab_link": true
    },
    "kernelspec": {
      "name": "python3",
      "display_name": "Python 3"
    }
  },
  "cells": [
    {
      "cell_type": "markdown",
      "metadata": {
        "id": "view-in-github",
        "colab_type": "text"
      },
      "source": [
        "<a href=\"https://colab.research.google.com/github/GuilhermeCarvalho312/Exercicios-Estrutura_de_decisao-python/blob/main/EstruturaDeDecisao.ipynb\" target=\"_parent\"><img src=\"https://colab.research.google.com/assets/colab-badge.svg\" alt=\"Open In Colab\"/></a>"
      ]
    },
    {
      "cell_type": "code",
      "metadata": {
        "id": "vuSB92RE6JCK",
        "colab": {
          "base_uri": "https://localhost:8080/",
          "height": 67
        },
        "outputId": "9a7b831d-9557-474b-f3fc-14a644e13936"
      },
      "source": [
        "#  1 Faça um Programa que peça dois números e imprima o maior deles.\n",
        "numero_01 = float(input('Insira um número: '))\n",
        "numero_02 = float(input('Insira outro numero: '))\n",
        "if numero_01<numero_02:\n",
        "    print('O maio número é '+str(numero_02))\n",
        "else:\n",
        "    print('O maior número é '+str(numero_01))"
      ],
      "execution_count": null,
      "outputs": [
        {
          "output_type": "stream",
          "text": [
            "Insira um número: 12\n",
            "Insira outro numero: 5\n",
            "O maior número é 12.0\n"
          ],
          "name": "stdout"
        }
      ]
    },
    {
      "cell_type": "code",
      "metadata": {
        "id": "8LCS4zILINMG",
        "colab": {
          "base_uri": "https://localhost:8080/",
          "height": 67
        },
        "outputId": "2a3951ca-403c-4be2-e732-89254fa33442"
      },
      "source": [
        "# Faça um Programa que peça um valor e mostre na tela se o valor é positivo ou negativo.\n",
        "variavel = float(input('Insira um valor: '))\n",
        "if variavel > 0:\n",
        "    print('O valor inserido é positivo\\n')\n",
        "else:\n",
        "    print('O valor inserido é negativo\\n')\n"
      ],
      "execution_count": null,
      "outputs": [
        {
          "output_type": "stream",
          "text": [
            "Insira um valor: -2\n",
            "O valor inserido é negativo\n",
            "\n"
          ],
          "name": "stdout"
        }
      ]
    },
    {
      "cell_type": "code",
      "metadata": {
        "id": "F5qbaj5dJaRd",
        "colab": {
          "base_uri": "https://localhost:8080/",
          "height": 67
        },
        "outputId": "a6ab5c4b-0231-4331-a1d2-4852192ca1bf"
      },
      "source": [
        "#Faça um Programa que verifique se uma letra digitada é vogal ou consoante.\n",
        "letra = str(input('Insira uma letra: '))\n",
        "if letra == 'a' or letra == 'e' or letra == 'i' or letra == 'o' or letra == 'u':\n",
        "    print('Essa letra é uma vogal! \\n')\n",
        "else:\n",
        "    print('Essa letra é uma consoante. \\n')\n"
      ],
      "execution_count": null,
      "outputs": [
        {
          "output_type": "stream",
          "text": [
            "Insira uma letra: a\n",
            "Essa letra é uma vogal! \n",
            "\n"
          ],
          "name": "stdout"
        }
      ]
    },
    {
      "cell_type": "code",
      "metadata": {
        "id": "aEI7wzQiPskv",
        "outputId": "d9a2a9bf-f788-42a6-9111-e3c4a7abbe2f",
        "colab": {
          "base_uri": "https://localhost:8080/"
        }
      },
      "source": [
        "#Faça um programa para a leitura de duas notas parciais de um aluno. O programa deve calcular a média alcançada por aluno e apresentar:\n",
        "#A mensagem \"Aprovado\", se a média alcançada for maior ou igual a sete;\n",
        "#A mensagem \"Reprovado\", se a média for menor do que sete;\n",
        "#A mensagem \"Aprovado com Distinção\", se a média for igual a dez.\n",
        "nota_01=float(input('Digite a primeira nota: \\n'))\n",
        "nota_02=float(input('Digite a segunda nota: \\n'))\n",
        "média=(nota_01+nota_02)/2\n",
        "if média>=7:\n",
        "    if média==10:\n",
        "        print('Aprovado com Distinção!')\n",
        "    else:\n",
        "        print('Aprovado')\n",
        "elif média<7:\n",
        "    print('Reprovado')\n"
      ],
      "execution_count": null,
      "outputs": [
        {
          "output_type": "stream",
          "text": [
            "Digite a primeira nota: \n",
            "7\n",
            "Digite a segunda nota: \n",
            "8\n",
            "Aprovado\n"
          ],
          "name": "stdout"
        }
      ]
    },
    {
      "cell_type": "code",
      "metadata": {
        "id": "n00HpYwOceNN"
      },
      "source": [
        "# Faça um Programa que leia três números e mostre o maior deles.\n",
        "primeiro_numero=float(input('Insira um número: '))\n",
        "segundo_numero=float(input('Insira um segundo número: '))\n",
        "terceiro_numero=float(input('Insira o terceiro numero: '))\n",
        "if primeiro_numero>segundo_numero and primeiro_numero>terceiro_numero:\n",
        "    print('O maior número é '+ str(primeiro_numero))\n",
        "elif segundo_numero>primeiro_numero and segundo_numero>terceiro_numero:\n",
        "    print('O maior numero é: '+ str(segundo_numero))\n",
        "else:\n",
        "    print('O maior numero é: '+ str(terceiro_numero))\n"
      ],
      "execution_count": null,
      "outputs": []
    },
    {
      "cell_type": "code",
      "metadata": {
        "id": "ai8nFSqeku7X"
      },
      "source": [
        "# Faça um Programa que leia três números e mostre o maior e o menor deles.\n",
        "primeiro_numero = float(input('Insira um número: '))\n",
        "segundo_numero = float(input('Insira um segundo número: '))\n",
        "terceiro_numero = float(input('Insira o terceiro numero: '))\n",
        "if primeiro_numero > segundo_numero and primeiro_numero > terceiro_numero:\n",
        "    print('O maior numero é: ' + str(primeiro_numero))\n",
        "    if segundo_numero < terceiro_numero:\n",
        "        print('O menor numero é: ' + str(segundo_numero))\n",
        "    else:\n",
        "        print('O menor numero é: ' + str(terceiro_numero))\n",
        "elif segundo_numero>primeiro_numero and segundo_numero>terceiro_numero:\n",
        "    print('O maior numero é; ' + str(segundo_numero))\n",
        "    if primeiro_numero<terceiro_numero:\n",
        "        print('O menor numero é: ' + str(primeiro_numero))\n",
        "    else:\n",
        "        print('O menor numero é: ' + str(terceiro_numero))\n",
        "else:\n",
        "    print('O maior número é: ' + str(terceiro_numero))\n",
        "    if primeiro_numero<segundo_numero:\n",
        "        print('O menor numero é: ' + str(primeiro_numero))\n",
        "    else:\n",
        "        print('O menor numero é: ' + str(segundo_numero))\n",
        "        "
      ],
      "execution_count": null,
      "outputs": []
    },
    {
      "cell_type": "code",
      "metadata": {
        "id": "c0Tt1V-bnO-m"
      },
      "source": [
        "#Faça um programa que pergunte o preço de três produtos e informe qual produto você deve comprar,\n",
        "# sabendo que a decisão é sempre pelo mais barato.\n",
        "primeiro_numero = float ( input ( 'Insira um valor: ' ) )\n",
        "segundo_numero = float ( input ( 'Insira um segundo valor: ' ) )\n",
        "terceiro_numero = float ( input ( 'Insira o terceiro valor: ' ) )\n",
        "if primeiro_numero < segundo_numero and primeiro_numero < terceiro_numero :\n",
        "    print ( 'O menor valor é:  ' + str ( primeiro_numero ) )\n",
        "elif segundo_numero < primeiro_numero and segundo_numero < terceiro_numero :\n",
        "    print ( 'Omenor valor é: ' + str ( segundo_numero ) )\n",
        "else :\n",
        "    print ( 'O menor valor é: ' + str ( terceiro_numero ) )\n"
      ],
      "execution_count": null,
      "outputs": []
    },
    {
      "cell_type": "code",
      "metadata": {
        "id": "TlYnJR3GpmVH"
      },
      "source": [
        "# Faça um Programa que leia três números e mostre-os em ordem decrescente.\n",
        "primeiro_numero = float ( input ( 'Insira um número: ' ) )\n",
        "segundo_numero = float ( input ( 'Insira um segundo número: ' ) )\n",
        "terceiro_numero = float ( input ( 'Insira o terceiro numero: ' ) )\n",
        "if primeiro_numero > segundo_numero and primeiro_numero > terceiro_numero:\n",
        "    print ( primeiro_numero )\n",
        "    if segundo_numero > terceiro_numero:\n",
        "        print ( segundo_numero )\n",
        "        print ( terceiro_numero )\n",
        "    else:\n",
        "        print ( terceiro_numero )\n",
        "        print ( segundo_numero )\n",
        "elif segundo_numero > primeiro_numero and segundo_numero > terceiro_numero:\n",
        "    print ( segundo_numero )\n",
        "    if primeiro_numero > terceiro_numero:\n",
        "        print ( primeiro_numero )\n",
        "        print ( terceiro_numero )\n",
        "    else:\n",
        "        print ( terceiro_numero )\n",
        "        print ( primeiro_numero )\n",
        "else:\n",
        "    print ( terceiro_numero )\n",
        "    if primeiro_numero > segundo_numero:\n",
        "        print ( primeiro_numero )\n",
        "        print ( segundo_numero )\n",
        "    else:\n",
        "        print ( segundo_numero )\n",
        "        print ( primeiro_numero )\n"
      ],
      "execution_count": null,
      "outputs": []
    },
    {
      "cell_type": "code",
      "metadata": {
        "id": "X2aSaTyCuKEu"
      },
      "source": [
        "#As Organizações Tabajara resolveram dar um aumento de salário aos seus colaboradores e lhe contraram para desenvolver o programa que calculará os reajustes.\n",
        "#Faça um programa que recebe o salário de um colaborador e o reajuste segundo o seguinte critério, baseado no salário atual:\n",
        "#salários até R$ 280,00 (incluindo) : aumento de 20%\n",
        "#salários entre R$ 280,00 e R$ 700,00 : aumento de 15%\n",
        "#salários entre R$ 700,00 e R$ 1500,00 : aumento de 10%\n",
        "#salários de R$ 1500,00 em diante : aumento de 5% Após o aumento ser realizado, informe na tela:\n",
        "#o salário antes do reajuste;\n",
        "#o percentual de aumento aplicado;\n",
        "#o valor do aumento;\n",
        "#o novo salário, após o aumento.\n",
        "salario = float ( input ( 'Digite seu salário: ' ) )\n",
        "if salario <= 280 :\n",
        "    print ( 'O salario antes do reajuste era  ' + str ( salario ) )\n",
        "    aumento = salario * 1.2\n",
        "    alone = salario * 0.2\n",
        "    print ( 'O novo salario é ' + str ( aumento ) + ' e o aumento foi de 20%' )\n",
        "    print ( 'O valor do aumento foi ' + str ( alone ) )\n",
        "elif salario > 280 and salario < 700 :\n",
        "    print ( 'O salario antes do reajuste era ' + str ( salario ) + ' e o aumento foi de 15%' )\n",
        "    aumento_02 = salario * 1.15\n",
        "    alone_02 = salario * 0.15\n",
        "    print ( 'O novo salario é ' + str ( aumento_02 ) )\n",
        "    print ( 'O valor do aumento foi ' + str ( alone_02 ) )\n",
        "elif salario > 700 and salario < 1500 :\n",
        "    print ( 'O salario antes do reajuste era ' + str ( salario ) + ' e o aumento foi de 10%' )\n",
        "    aumento_03 = salario * 1.10\n",
        "    alone_03 = salario * 0.10\n",
        "    print ( 'O novo salario é ' + str ( aumento_03 ) )\n",
        "    print ( 'O valor do aumento foi ' + str ( alone_03 ) )\n",
        "else :\n",
        "    print ( 'O salario antes do reajuste era ' + str ( salario ) + ' e o aumento foi de 5%' )\n",
        "    aumento_04 = salario * 1.05\n",
        "    alone_04 = salario * 0.05\n",
        "    print ( 'O novo salario é ' + str ( aumento_04 ) )\n",
        "    print ( 'O valor do aumento foi ' + str ( alone_04 ) )\n"
      ],
      "execution_count": null,
      "outputs": []
    },
    {
      "cell_type": "code",
      "metadata": {
        "id": "Rc1m1ALxaZFh"
      },
      "source": [
        "valor_hora = int ( input ( 'Digite o valor de cada hora: ' ) )\n",
        "quantidade_horas = int ( input ( 'Digite a quantidade de horas trabalhadas: ' ) )\n",
        "salario_bruto = valor_hora * quantidade_horas\n",
        "INSS = salario_bruto * 0.10\n",
        "FGTS = salario_bruto * 0.11\n",
        "if salario_bruto <= 900:\n",
        "    salario_caso01 = salario_bruto - INSS\n",
        "    print ( 'Salario bruto:R$ ' + str ( salario_bruto ) )\n",
        "    print ( 'Você é isento do sindicato ' )\n",
        "    print ( 'FGTS: R$ ' + str ( FGTS ) )\n",
        "    print ( 'Total de descontos: ' + str ( INSS ) )\n",
        "    print ( 'Salario líquido: R$ ' + str ( salario_caso01 ) )\n",
        "elif salario_bruto > 900 and salario_bruto <= 1500:\n",
        "    sindicato_IR = salario_bruto * 0.05\n",
        "    total_descontos = sindicato_IR + INSS\n",
        "    salario_liquido = salario_bruto - sindicato_IR - INSS\n",
        "    print ( 'Salario bruto:R$ ' + str ( salario_bruto ) )\n",
        "    print ( 'FGTS: R$ ' + str ( FGTS ) )\n",
        "    print ( 'IR: R$ ' + str ( sindicato_IR ) )\n",
        "    print ( 'INSS: R$ ' + str ( INSS ) )\n",
        "    print ( 'Total de descontos: R$ ' + str ( total_descontos ) )\n",
        "    print ( 'Salario líquido: R$ ' + str ( salario_liquido ) )\n",
        "elif salario_bruto > 1500 and salario_bruto <= 2500:\n",
        "    sindicato_IR = salario_bruto * 0.10\n",
        "    total_descontos = sindicato_IR + INSS\n",
        "    salario_liquido = salario_bruto - sindicato_IR - INSS\n",
        "    print ( 'Salario bruto:R$ ' + str ( salario_bruto ) )\n",
        "    print ( 'FGTS: R$ ' + str ( FGTS ) )\n",
        "    print ( 'IR: R$ ' + str ( sindicato_IR ) )\n",
        "    print ( 'INSS: R$ ' + str ( INSS ) )\n",
        "    print ( 'Total de descontos: R$ ' + str ( total_descontos ) )\n",
        "    print ( 'Salario líquido: R$ ' + str ( salario_liquido ) )\n",
        "else:\n",
        "    sindicato_IR = salario_bruto * 0.20\n",
        "    total_descontos = sindicato_IR + INSS\n",
        "    salario_liquido = salario_bruto - sindicato_IR - INSS\n",
        "    print ( 'Salario bruto:R$ ' + str ( salario_bruto ) )\n",
        "    print ( 'FGTS: R$ ' + str ( FGTS ) )\n",
        "    print ( 'IR: R$ ' + str ( sindicato_IR ) )\n",
        "    print ( 'INSS: R$ ' + str ( INSS ) )\n",
        "    print ( 'Total de descontos: R$ ' + str ( total_descontos ) )\n",
        "    print ( 'Salario líquido: R$ ' + str ( salario_liquido ) )\n"
      ],
      "execution_count": null,
      "outputs": []
    },
    {
      "cell_type": "code",
      "metadata": {
        "id": "8t8w6U8x5axh"
      },
      "source": [
        "# Faça um Programa que leia um número e exiba o dia correspondente da semana.\n",
        "# (1-Domingo, 2- Segunda, etc.), se digitar outro valor deve aparecer valor inválido.\n",
        "dia = str ( input ( 'Insira um número que corresponde a um dia da semana.(1-Domingo, 2- Segunda, etc.):  ' ) )\n",
        "if dia == '1' :\n",
        "    print ( 'Domingo' )\n",
        "elif dia == '2' :\n",
        "    print ( 'Segunda' )\n",
        "elif dia == '3' :\n",
        "    print ( 'Terça' )\n",
        "elif dia == '4' :\n",
        "    print ( 'Quarta' )\n",
        "elif dia == '5' :\n",
        "    print ( 'Quinta' )\n",
        "elif dia == '6' :\n",
        "    print ( 'Sexta' ).upper ()\n",
        "elif dia == '7' :\n",
        "    print ( 'Sabado' )\n",
        "else :\n",
        "    print ( 'EERO: valor inválido' )\n"
      ],
      "execution_count": null,
      "outputs": []
    },
    {
      "cell_type": "code",
      "metadata": {
        "id": "h1RzUZGqCTnD"
      },
      "source": [
        "# Faça um programa que lê as duas notas parciais obtidas por um aluno numa disciplina ao longo de um semestre, e calcule a sua média.\n",
        "# O algoritmo deve mostrar na tela as notas, a média, o conceito correspondente e a mensagem “APROVADO” se o conceito for A, B ou C ou “REPROVADO” se o conceito for D ou E.\n",
        "nota_01 = float ( input ( 'Insira a primeira nota parcial: ' ) )\n",
        "nota_02 = float ( input ( 'Insira a segunda nota parcial: ' ) )\n",
        "media = (nota_02 + nota_01) / 2\n",
        "if media > 9 and media <= 10:\n",
        "    print ( nota_01 )\n",
        "    print ( nota_02 )\n",
        "    print ( 'Média: ' + str ( media ) )\n",
        "    print ( 'Conceito A' )\n",
        "    print ( 'Aprovado com distinção!' )\n",
        "elif media > 7.5 and media <= 9:\n",
        "    print ( nota_01 )\n",
        "    print ( nota_02 )\n",
        "    print ( 'Média: ' + str ( media ) )\n",
        "    print ( 'Conceito B' )\n",
        "    print ( 'Aprovado' )\n",
        "elif media > 6 and media <= 7.5:\n",
        "    print ( nota_01 )\n",
        "    print ( nota_02 )\n",
        "    print ( 'Média: ' + str ( media ) )\n",
        "    print ( 'Conceito C' )\n",
        "    print ( 'Aprovado' )\n",
        "elif media > 4 and media <= 6:\n",
        "    print ( nota_01 )\n",
        "    print ( nota_02 )\n",
        "    print ( 'Média: ' + str ( media ) )\n",
        "    print ( 'Conceito D' )\n",
        "    print ( 'Reprovado' )\n",
        "else:\n",
        "    print ( nota_01 )\n",
        "    print ( nota_02 )\n",
        "    print ( 'Média: ' + str ( media ) )\n",
        "    print ( 'Conceito E' )\n",
        "    print ( 'Reprovado' )\n"
      ],
      "execution_count": null,
      "outputs": []
    },
    {
      "cell_type": "code",
      "metadata": {
        "id": "SYDNsjTCGL5y",
        "colab": {
          "base_uri": "https://localhost:8080/"
        },
        "outputId": "6157a926-ab6a-4c6d-b1b2-2105b7b6b2dc"
      },
      "source": [
        "# Faça um Programa que peça os 3 lados de um triângulo. O programa deverá informar se os valores podem ser um triângulo. \n",
        "# Indique, caso os lados formem um triângulo, se o mesmo é: equilátero, isósceles ou escaleno.\n",
        "lado_A = float ( input ( 'Insira o valor do lado A: ' ) )\n",
        "lado_B = float ( input ( 'Insria o valo do lado B: ' ) )\n",
        "lado_C = float ( input ( 'Insira o valaor do lado C: ' ) )\n",
        "if lado_A < (lado_B + lado_C) and lado_B < (lado_A + lado_C) and lado_C < (lado_A + lado_B) :\n",
        "    if lado_A == lado_B and lado_B == lado_C and lado_A == lado_C :\n",
        "        print ( 'Triângulo equilátero' )\n",
        "    elif lado_A == lado_B or lado_B == lado_C or lado_A == lado_C :\n",
        "        print ( 'Triângulo isósceles' )\n",
        "    else :\n",
        "        print ( 'Triângulo Escaleno' )\n",
        "else :\n",
        "    print ( 'Não há como formar um triãngulo com os valores informados' )\n"
      ],
      "execution_count": null,
      "outputs": [
        {
          "output_type": "stream",
          "text": [
            "Insira o valor do lado A: 3\n",
            "Insria o valo do lado B: 4\n",
            "Insira o valaor do lado C: 5\n",
            "Triângulo Escaleno\n"
          ],
          "name": "stdout"
        }
      ]
    },
    {
      "cell_type": "code",
      "metadata": {
        "id": "rILSefBJKLEx",
        "colab": {
          "base_uri": "https://localhost:8080/",
          "height": 85
        },
        "outputId": "f1f81b18-9600-4bf5-a46b-05e25451b2db"
      },
      "source": [
        "a = float ( input ( 'Insira o valor de A: ' ) )\n",
        "if a == 0:\n",
        "    print ( 'Não há como formar uma equação do segundo grau com o valor indicado' )\n",
        "else:\n",
        "    b = float ( input ( 'Insira o valor de B: ' ) )\n",
        "    c = float ( input ( 'Insira o valor de C: ' ) )\n",
        "    delta = pow ( (pow ( b , 2 ) - 4 * a * c) , 0.5 )\n",
        "    if delta < 0:\n",
        "        print ( 'Não há raízes reais' )\n",
        "    elif delta == 0:\n",
        "        raiz = -b / (2 * a)\n",
        "    else:\n",
        "        x_01 = (-b + delta) / (2 * a)\n",
        "        x_02 = (-b - delta) / (2 * a)\n",
        "        print ( 'A primeira raiz é ' + str ( x_01 ) + ' e a segunda raiz é ' + str ( x_02 ) )\n"
      ],
      "execution_count": null,
      "outputs": [
        {
          "output_type": "stream",
          "text": [
            "Insira o valor de A: 1\n",
            "Insira o valor de B: -5\n",
            "Insira o valor de C: 6\n",
            "A primeira raiz é 3.0 e a segunda raiz é 2.0\n"
          ],
          "name": "stdout"
        }
      ]
    },
    {
      "cell_type": "code",
      "metadata": {
        "colab": {
          "base_uri": "https://localhost:8080/"
        },
        "id": "qA1pCCEDFpWm",
        "outputId": "bd5027cf-bb1f-4a24-f1b9-3ce4035a17c9"
      },
      "source": [
        "# Faça um Programa que peça um número correspondente a um determinado ano e em seguida informe se este ano é ou não bissexto.\n",
        "ano = int(input('Ano: '))\n",
        "if (ano%4==0 and ano%100!=0) or (ano%400==0):\n",
        "    print('Bissexto')\n",
        "else:\n",
        "    print('Não é bissexto')"
      ],
      "execution_count": null,
      "outputs": [
        {
          "output_type": "stream",
          "text": [
            "Ano: 2004\n",
            "Bissexto\n"
          ],
          "name": "stdout"
        }
      ]
    },
    {
      "cell_type": "code",
      "metadata": {
        "colab": {
          "base_uri": "https://localhost:8080/"
        },
        "id": "xDI2I3DBLwxm",
        "outputId": "30104d7d-dbfd-4ff9-a559-2e3027b905e8"
      },
      "source": [
        "# Faça um Programa que peça uma data no formato dd/mm/aaaa e determine se a mesma é uma data válida.\n",
        "dia = int(input('Digite o dia: '))\n",
        "if dia < 0 or dia > 31:\n",
        "    print('A data é inválida, por favor digite novamente.')\n",
        "else:\n",
        "    mes = int(input('Digite o mês: '))\n",
        "    if mes < 0 or mes > 12:\n",
        "        print('Numero do mês inválido, por favor digite novamente.')\n",
        "    ano = int ( input ( 'Digite o ano: ' ) )\n",
        "    print('A data é válida')\n"
      ],
      "execution_count": null,
      "outputs": [
        {
          "output_type": "stream",
          "text": [
            "Digite o dia: 26\n",
            "Digite o mês: 04\n",
            "Digite o ano: 2002\n",
            "A data é válida\n"
          ],
          "name": "stdout"
        }
      ]
    },
    {
      "cell_type": "code",
      "metadata": {
        "colab": {
          "base_uri": "https://localhost:8080/"
        },
        "id": "uMvCNK6aNTw1",
        "outputId": "96e25756-3aa6-4fad-8670-2f310bbd7511"
      },
      "source": [
        "# Faça um Programa que leia um número inteiro menor que 1000 e imprima a quantidade de centenas, dezenas e unidades do mesmo\n",
        "numero = int(input('Digite um numero inteiro positivo: '))\n",
        "unidade = numero % 10\n",
        "numero = (numero - unidade)/10\n",
        "dezena = numero % 10\n",
        "numero = (numero - dezena)/10\n",
        "centena = numero\n",
        "dezena = int(dezena)\n",
        "centena =  int(centena)\n",
        "print(centena,'centena(s),',dezena,'dezena(s) e',unidade,'unidade(s)')\n",
        "\n"
      ],
      "execution_count": null,
      "outputs": [
        {
          "output_type": "stream",
          "text": [
            "Digite um numero inteiro positivo: 357\n",
            "3 centena(s), 5 dezena(s) e 7 unidade(s)\n"
          ],
          "name": "stdout"
        }
      ]
    },
    {
      "cell_type": "code",
      "metadata": {
        "colab": {
          "base_uri": "https://localhost:8080/"
        },
        "id": "3S3_WwRnRhB0",
        "outputId": "3aa39482-4034-4914-c0c9-fd6a615d8734"
      },
      "source": [
        "#Faça um Programa para leitura de três notas parciais de um aluno. O programa deve calcular a média alcançada por aluno e presentar:\n",
        "#A mensagem \"Aprovado\", se a média for maior ou igual a 7, com a respectiva média alcançada;\n",
        "#A mensagem \"Reprovado\", se a média for menor do que 7, com a respectiva média alcançada;\n",
        "#A mensagem \"Aprovado com Distinção\", se a média for igual a 10.\n",
        "nota_01 = float(input('Digite a primeira nota: '))\n",
        "nota_02 = float(input('Digite a segunda nota: '))\n",
        "nota_03 = float(input('Digite a terceira nota: '))\n",
        "media = (nota_01+nota_02+nota_03)/3\n",
        "if media<7:\n",
        "    print('Reprovado, '+'sua nota foi '+str(media))\n",
        "elif media>=7 and media<10:\n",
        "    print('Aprovado, '+'sua nota foi '+str(media))\n",
        "else:\n",
        "    print('Aprovado com distinção, '+'sua nota foi '+str(media))"
      ],
      "execution_count": null,
      "outputs": [
        {
          "output_type": "stream",
          "text": [
            "Digite a primeira nota: 10\n",
            "Digite a segunda nota: 8\n",
            "Digite a terceira nota: 5\n",
            "Aprovado, sua nota foi 7.666666666666667\n"
          ],
          "name": "stdout"
        }
      ]
    }
  ]
}